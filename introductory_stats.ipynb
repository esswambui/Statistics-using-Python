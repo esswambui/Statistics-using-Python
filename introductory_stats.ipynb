{
  "nbformat": 4,
  "nbformat_minor": 5,
  "metadata": {
    "kernelspec": {
      "display_name": "Python 3",
      "language": "python",
      "name": "python3"
    },
    "language_info": {
      "codemirror_mode": {
        "name": "ipython",
        "version": 3
      },
      "file_extension": ".py",
      "mimetype": "text/x-python",
      "name": "python",
      "nbconvert_exporter": "python",
      "pygments_lexer": "ipython3",
      "version": "3.8.8"
    },
    "colab": {
      "name": "introductory-stats.ipynb",
      "provenance": [],
      "include_colab_link": true
    }
  },
  "cells": [
    {
      "cell_type": "markdown",
      "metadata": {
        "id": "view-in-github",
        "colab_type": "text"
      },
      "source": [
        "<a href=\"https://colab.research.google.com/github/esswambui/Statistics-using-Python/blob/main/introductory_stats.ipynb\" target=\"_parent\"><img src=\"https://colab.research.google.com/assets/colab-badge.svg\" alt=\"Open In Colab\"/></a>"
      ]
    },
    {
      "cell_type": "markdown",
      "metadata": {
        "id": "c367cda5"
      },
      "source": [
        "## Reasons it is a discrete probability\n",
        "- Probality is between 0 and 1 inclusive\n",
        "- The sum of pobabilities is 1"
      ],
      "id": "c367cda5"
    },
    {
      "cell_type": "markdown",
      "metadata": {
        "id": "f3aa65a2"
      },
      "source": [
        "The **Law of Large Numbers** states that, as the number of trials in a probability experiment increases, the\n",
        "difference between the theoretical probability of an event and the relative frequency approaches zero (the\n",
        "theoretical probability and the relative frequency get closer and closer together). \n",
        "\n",
        "- **mean(expected value)** μ --sum of x*P(x)\n",
        "- **Standard deviation** -- squareroot of sum of  (x − μ)2 ⋅ P(x)"
      ],
      "id": "f3aa65a2"
    },
    {
      "cell_type": "markdown",
      "metadata": {
        "id": "802ed95a"
      },
      "source": [
        "### Square root"
      ],
      "id": "802ed95a"
    },
    {
      "cell_type": "code",
      "metadata": {
        "colab": {
          "base_uri": "https://localhost:8080/"
        },
        "id": "d3ff3515",
        "outputId": "6f551e3b-7c97-4a6e-b641-36e9359f7e6e"
      },
      "source": [
        "import math\n",
        "print(math.sqrt(0.0019354838))"
      ],
      "id": "d3ff3515",
      "execution_count": null,
      "outputs": [
        {
          "output_type": "stream",
          "text": [
            "0.043994133699846845\n"
          ],
          "name": "stdout"
        }
      ]
    },
    {
      "cell_type": "code",
      "metadata": {
        "colab": {
          "base_uri": "https://localhost:8080/"
        },
        "id": "1652d6c7",
        "outputId": "3fe333f9-e7d0-4bd4-e0e2-e1b649f31787"
      },
      "source": [
        "0.043994133699846845*2\n",
        "0.4-0.09"
      ],
      "id": "1652d6c7",
      "execution_count": null,
      "outputs": [
        {
          "output_type": "execute_result",
          "data": {
            "text/plain": [
              "0.31000000000000005"
            ]
          },
          "metadata": {
            "tags": []
          },
          "execution_count": 2
        }
      ]
    },
    {
      "cell_type": "code",
      "metadata": {
        "colab": {
          "base_uri": "https://localhost:8080/"
        },
        "id": "26ef84ad",
        "outputId": "125cb4bf-4222-48d2-f0a2-7066f100d764"
      },
      "source": [
        "(14/7.3484692283495345)*2"
      ],
      "id": "26ef84ad",
      "execution_count": null,
      "outputs": [
        {
          "output_type": "execute_result",
          "data": {
            "text/plain": [
              "3.8103173776627215"
            ]
          },
          "metadata": {
            "tags": []
          },
          "execution_count": 3
        }
      ]
    },
    {
      "cell_type": "markdown",
      "metadata": {
        "id": "4a397eb7"
      },
      "source": [
        "## Combinations."
      ],
      "id": "4a397eb7"
    },
    {
      "cell_type": "code",
      "metadata": {
        "colab": {
          "base_uri": "https://localhost:8080/",
          "height": 197
        },
        "id": "c8900f50",
        "outputId": "0e016f3b-7fd6-48ee-c43c-645ffbc8f56c"
      },
      "source": [
        "# Import math Library\n",
        "import math\n",
        "\n",
        "# Initialize the number of items to choose from\n",
        "n = 2\n",
        "\n",
        "# Initialize the number of possibilities to choose\n",
        "k = 0\n",
        "\n",
        "# Print total number of possible combinations\n",
        "print (math.comb(n, k))"
      ],
      "id": "c8900f50",
      "execution_count": null,
      "outputs": [
        {
          "output_type": "error",
          "ename": "AttributeError",
          "evalue": "ignored",
          "traceback": [
            "\u001b[0;31m---------------------------------------------------------------------------\u001b[0m",
            "\u001b[0;31mAttributeError\u001b[0m                            Traceback (most recent call last)",
            "\u001b[0;32m<ipython-input-1-d9f423ed4316>\u001b[0m in \u001b[0;36m<module>\u001b[0;34m()\u001b[0m\n\u001b[1;32m      9\u001b[0m \u001b[0;34m\u001b[0m\u001b[0m\n\u001b[1;32m     10\u001b[0m \u001b[0;31m# Print total number of possible combinations\u001b[0m\u001b[0;34m\u001b[0m\u001b[0;34m\u001b[0m\u001b[0;34m\u001b[0m\u001b[0m\n\u001b[0;32m---> 11\u001b[0;31m \u001b[0mprint\u001b[0m \u001b[0;34m(\u001b[0m\u001b[0mmath\u001b[0m\u001b[0;34m.\u001b[0m\u001b[0mcomb\u001b[0m\u001b[0;34m(\u001b[0m\u001b[0mn\u001b[0m\u001b[0;34m,\u001b[0m \u001b[0mk\u001b[0m\u001b[0;34m)\u001b[0m\u001b[0;34m)\u001b[0m\u001b[0;34m\u001b[0m\u001b[0;34m\u001b[0m\u001b[0m\n\u001b[0m",
            "\u001b[0;31mAttributeError\u001b[0m: module 'math' has no attribute 'comb'"
          ]
        }
      ]
    },
    {
      "cell_type": "markdown",
      "metadata": {
        "id": "98d7dee9"
      },
      "source": [
        "## Characteristics of binomial distribution\n",
        "- There are a fixed number of trials. Think of trials as repetitions of an experiment. The letter n denotes the number of trials.\n",
        "- There are only two possible outcomes, called “success” and “failure,” for each trial. The letter p denotes the probability of a success on one trial, and q denotes the probability of a failure on one trial. p + q = 1.\n",
        "- The n trials are independent and are repeated using identical conditions. Because the n trials are independent, the outcome of one trial does not help in predicting the outcome of another trial. Another way of saying this is that for each individual trial, the probability, p, of a success and probability, q, of a failure remain the same\n",
        "The outcomes of a binomial experiment fit a binomial probability distribution.\n",
        "The random variable X = the number of successes obtained in the n independent trials.\n",
        "The mean, μ, and variance, σ 2, for the binomial probability distribution are μ = np and σ 2 = npq. The standard\n",
        "deviation, σ, is then σ = √npq"
      ],
      "id": "98d7dee9"
    },
    {
      "cell_type": "code",
      "metadata": {
        "id": "42bc33cd"
      },
      "source": [
        "25*0.107"
      ],
      "id": "42bc33cd",
      "execution_count": null,
      "outputs": []
    },
    {
      "cell_type": "code",
      "metadata": {
        "id": "2f9ed62b"
      },
      "source": [
        "8.1/100"
      ],
      "id": "2f9ed62b",
      "execution_count": null,
      "outputs": []
    },
    {
      "cell_type": "markdown",
      "metadata": {
        "id": "eeee5afb"
      },
      "source": [
        "## Create a binomial distribution"
      ],
      "id": "eeee5afb"
    },
    {
      "cell_type": "code",
      "metadata": {
        "colab": {
          "base_uri": "https://localhost:8080/"
        },
        "id": "abfbdfad",
        "outputId": "c2ff2d8e-b59f-4dd2-88f6-993a12a0db50"
      },
      "source": [
        "import  statistics as stats\n",
        "import numpy as np\n",
        "from numpy import random\n",
        "#generate an array of 10 values that follow a binomial distribution\n",
        "val=random.binomial(n=1000, p=.5, size=1000)\n",
        "print(stats.mean(val))"
      ],
      "id": "abfbdfad",
      "execution_count": null,
      "outputs": [
        {
          "output_type": "stream",
          "text": [
            "499\n"
          ],
          "name": "stdout"
        }
      ]
    },
    {
      "cell_type": "markdown",
      "metadata": {
        "id": "af3a6979"
      },
      "source": [
        "## Binomial probability mass function\n",
        "#### Exactly n successes"
      ],
      "id": "af3a6979"
    },
    {
      "cell_type": "markdown",
      "metadata": {
        "id": "13696bab"
      },
      "source": [
        "Question 1: Nathan makes 60% of his free-throw attempts. If he shoots 12 free throws, what is the probability that he makes exactly 10?"
      ],
      "id": "13696bab"
    },
    {
      "cell_type": "code",
      "metadata": {
        "colab": {
          "base_uri": "https://localhost:8080/"
        },
        "id": "2d14a439",
        "outputId": "b119d705-d123-4a42-ce92-ba850157c211"
      },
      "source": [
        "from scipy.stats import binom\n",
        "\n",
        "#calculate binomial probability\n",
        "ans=binom.pmf(k=6, n=11, p=0.081)\n",
        "ans"
      ],
      "id": "2d14a439",
      "execution_count": null,
      "outputs": [
        {
          "output_type": "execute_result",
          "data": {
            "text/plain": [
              "8.553220058373916e-05"
            ]
          },
          "metadata": {
            "tags": []
          },
          "execution_count": 6
        }
      ]
    },
    {
      "cell_type": "markdown",
      "metadata": {
        "id": "bf00d8c1"
      },
      "source": [
        "Question 2: Marty flips a fair coin 5 times. What is the probability that the coin lands on heads 2 times or fewer?"
      ],
      "id": "bf00d8c1"
    },
    {
      "cell_type": "code",
      "metadata": {
        "colab": {
          "base_uri": "https://localhost:8080/"
        },
        "id": "1bb77443",
        "outputId": "af990e1f-a527-4187-b206-5e387a01cd68"
      },
      "source": [
        "from scipy.stats import binom\n",
        "\n",
        "#calculate binomial probability\n",
        "a=binom.cdf(k=3, n=14, p=0.1)\n",
        "a"
      ],
      "id": "1bb77443",
      "execution_count": null,
      "outputs": [
        {
          "output_type": "execute_result",
          "data": {
            "text/plain": [
              "0.9558670756901401"
            ]
          },
          "metadata": {
            "tags": []
          },
          "execution_count": 7
        }
      ]
    },
    {
      "cell_type": "markdown",
      "metadata": {
        "id": "31b606f7"
      },
      "source": [
        "Question 3: It is known that 70% of individuals support a certain law. If 10 individuals are randomly selected, what is the probability that between 4 and 6 of them support the law?"
      ],
      "id": "31b606f7"
    },
    {
      "cell_type": "code",
      "metadata": {
        "colab": {
          "base_uri": "https://localhost:8080/"
        },
        "id": "15e63188",
        "outputId": "49278298-2550-4654-df1b-448db116f954"
      },
      "source": [
        "from scipy.stats import binom\n",
        "\n",
        "#calculate binomial probability\n",
        "binom.cdf(k=6, n=10, p=0.7) - binom.cdf(k=3, n=10, p=0.7)"
      ],
      "id": "15e63188",
      "execution_count": null,
      "outputs": [
        {
          "output_type": "execute_result",
          "data": {
            "text/plain": [
              "0.3397972032000002"
            ]
          },
          "metadata": {
            "tags": []
          },
          "execution_count": 8
        }
      ]
    },
    {
      "cell_type": "markdown",
      "metadata": {
        "id": "31ec50b9"
      },
      "source": [
        "## Visualise binomial distribution"
      ],
      "id": "31ec50b9"
    },
    {
      "cell_type": "markdown",
      "metadata": {
        "id": "4747774f"
      },
      "source": [
        "In the notes y-axis is the probability x-axis is the no of trials."
      ],
      "id": "4747774f"
    },
    {
      "cell_type": "code",
      "metadata": {
        "colab": {
          "base_uri": "https://localhost:8080/"
        },
        "id": "65e3220c",
        "outputId": "10d61511-bcf5-4526-c800-0ebbd90a2136"
      },
      "source": [
        "from numpy import random\n",
        "import matplotlib.pyplot as plt\n",
        "import seaborn as sns\n",
        "\n",
        "x = random.binomial(n=20, p=0.41, size=100)\n",
        "\n",
        "sns.distplot(x, hist=True, kde=False)\n",
        "\n",
        "plt.show()"
      ],
      "id": "65e3220c",
      "execution_count": null,
      "outputs": [
        {
          "output_type": "stream",
          "text": [
            "/usr/local/lib/python3.7/dist-packages/seaborn/distributions.py:2557: FutureWarning: `distplot` is a deprecated function and will be removed in a future version. Please adapt your code to use either `displot` (a figure-level function with similar flexibility) or `histplot` (an axes-level function for histograms).\n",
            "  warnings.warn(msg, FutureWarning)\n"
          ],
          "name": "stderr"
        },
        {
          "output_type": "display_data",
          "data": {
            "image/png": "[encoded data removed]",
            "text/plain": [
              "<Figure size 432x288 with 1 Axes>"
            ]
          },
          "metadata": {
            "tags": [],
            "needs_background": "light"
          }
        }
      ]
    },
    {
      "cell_type": "markdown",
      "metadata": {
        "id": "2269c560"
      },
      "source": [
        "## Uniform Distribution\n",
        "P(X ≤ x), which can also be written as P(X < x) for continuous distributions, is called the cumulative\n",
        "distribution function or CDF. Notice the “less than or equal to” symbol. We can also use the CDF to calculate\n",
        "P(X > x). The CDF gives “area to the left” and P(X > x) gives “area to the right.” We calculate P(X > x) for\n",
        "continuous distributions as follows: P(X > x) = 1 − P(X < x).         \n",
        "\n",
        "\n",
        "The notation for the uniform distribution is X ∼ U(a, b) where a = the lowest value of x and b = the highest\n",
        "value of x.          \n",
        "\n",
        "The probability density function is f (x) = 1/\n",
        "b − a\n",
        "for a ≤ x ≤ b.        \n",
        "\n",
        "For this example, X ∼ U(0, 23) and f (x) =1/(23 − 0) \n",
        "for 0 ≤ X ≤ 23.            \n",
        "\n",
        "Formulas for the theoretical mean and standard deviation are \n",
        "μ = (a + b)/2 and σ = √(b − a)2/12          \n",
        "\n",
        "For this problem, the theoretical mean and standard deviation are\n",
        "μ =\n",
        "0 + 23\n",
        "/2\n",
        "= 11.50 seconds and σ = √(23 − 0)2/\n",
        "12\n",
        "seconds.       \n",
        "\n",
        "Notice that the theoretical mean and standard deviation are close to the sample mean and standard deviation\n",
        "in this example"
      ],
      "id": "2269c560"
    },
    {
      "cell_type": "markdown",
      "metadata": {
        "id": "1a3598b1"
      },
      "source": [
        "#### For conditional uniform distribution\n",
        "Write a new f (x): f (x) =1/\n",
        "23 − 8\n",
        "=\n",
        "1/\n",
        "15          \n",
        "\n",
        "for\n",
        "8 < x < 23\n",
        "P(x > 12|x > 8) = (23 − 12)(1/15 ) = 11/15"
      ],
      "id": "1a3598b1"
    },
    {
      "cell_type": "code",
      "metadata": {
        "id": "1197e26f"
      },
      "source": [
        "a = 1/6.3"
      ],
      "id": "1197e26f",
      "execution_count": null,
      "outputs": []
    },
    {
      "cell_type": "code",
      "metadata": {
        "colab": {
          "base_uri": "https://localhost:8080/"
        },
        "id": "aa027f38",
        "outputId": "e3197c91-7292-46f2-ad13-12dc2f6e9ec3"
      },
      "source": [
        "0.491/a"
      ],
      "id": "aa027f38",
      "execution_count": null,
      "outputs": [
        {
          "output_type": "execute_result",
          "data": {
            "text/plain": [
              "3.0933"
            ]
          },
          "metadata": {
            "tags": []
          },
          "execution_count": 11
        }
      ]
    },
    {
      "cell_type": "code",
      "metadata": {
        "colab": {
          "base_uri": "https://localhost:8080/"
        },
        "id": "7e935184",
        "outputId": "1642f3ac-4540-41b6-c329-a61261c801b0"
      },
      "source": [
        "55.5-3.1\n",
        "1.3*.5\n",
        "\n",
        "32.12-8.82\n"
      ],
      "id": "7e935184",
      "execution_count": null,
      "outputs": [
        {
          "output_type": "execute_result",
          "data": {
            "text/plain": [
              "23.299999999999997"
            ]
          },
          "metadata": {
            "tags": []
          },
          "execution_count": 12
        }
      ]
    },
    {
      "cell_type": "code",
      "metadata": {
        "colab": {
          "base_uri": "https://localhost:8080/"
        },
        "id": "83bf8274",
        "outputId": "c859ec08-15a9-427d-ab9e-67b161e845dc"
      },
      "source": [
        "1/23.3"
      ],
      "id": "83bf8274",
      "execution_count": null,
      "outputs": [
        {
          "output_type": "execute_result",
          "data": {
            "text/plain": [
              "0.04291845493562232"
            ]
          },
          "metadata": {
            "tags": []
          },
          "execution_count": 13
        }
      ]
    },
    {
      "cell_type": "code",
      "metadata": {
        "colab": {
          "base_uri": "https://localhost:8080/"
        },
        "id": "1bd8e7b4",
        "outputId": "eb7538e9-ed6c-4c91-f3e6-4857263f5360"
      },
      "source": [
        "0.75/0.04"
      ],
      "id": "1bd8e7b4",
      "execution_count": null,
      "outputs": [
        {
          "output_type": "execute_result",
          "data": {
            "text/plain": [
              "18.75"
            ]
          },
          "metadata": {
            "tags": []
          },
          "execution_count": 14
        }
      ]
    },
    {
      "cell_type": "markdown",
      "metadata": {
        "id": "035dfd01"
      },
      "source": [
        "# Normal Distribution\n",
        "We can alter the shape of the bell curve by changing the mean and standard deviation.\n",
        "\n",
        "Changing the mean will shift the curve towards that mean value, this means we can change the position of the curve by altering the mean value while the shape of the curve remains intact. The shape of the curve can be controlled by the value of Standard deviation. A smaller standard deviation will result in a closely bounded curve while a high value will result in a more spread out curve.\n",
        "- The mean, mode, and median are all equal.\n",
        "- The total area under the curve is equal to 1.\n",
        "- The curve is symmetric around the mean\n",
        "\n",
        "## Empirical rule\n",
        "- 68% of the data falls within one standard deviation of the mean.\n",
        "- 95% of the data falls within two standard deviations of the mean.\n",
        "- 99.7% of the data falls within three standard deviations of the mean.\n",
        "\n",
        "# Standard Normai distribution\n",
        "A standard normal distribution is just similar to a normal distribution with mean = 0 and standard deviation = 1.        \n",
        "\n",
        "Z = (x-μ)/ σ"
      ],
      "id": "035dfd01"
    },
    {
      "cell_type": "markdown",
      "metadata": {
        "id": "a40a550c"
      },
      "source": [
        "## Creatinag a Normal Curve\n",
        "Suppose we have data of the heights of adults in a town and the data follows a normal distribution, we have a sufficient sample size with mean equals 5.3 and the standard deviation is 1"
      ],
      "id": "a40a550c"
    },
    {
      "cell_type": "code",
      "metadata": {
        "colab": {
          "base_uri": "https://localhost:8080/"
        },
        "id": "df05a406",
        "outputId": "653113ad-448f-45f9-e0d3-7d115f3a001a"
      },
      "source": [
        "# import required libraries\n",
        "from scipy.stats import norm\n",
        "import numpy as np\n",
        "import matplotlib.pyplot as plt\n",
        "import seaborn as sb\n",
        "\n",
        "# Creating the distribution\n",
        "data = np.arange(1,10,0.01) # creates a list of values between 1 and 0.99\n",
        "# loc is the mean and svale is the standard deviation.\n",
        "pdf = norm.pdf(data , loc = 5.3 , scale = 1 )\n",
        "\n",
        "\n",
        "#Visualizing the distribution\n",
        "\n",
        "sb.set_style('whitegrid')\n",
        "sb.lineplot(data, pdf , color = 'black')\n",
        "plt.xlabel('Heights')\n",
        "plt.ylabel('Probability Density')"
      ],
      "id": "df05a406",
      "execution_count": null,
      "outputs": [
        {
          "output_type": "stream",
          "text": [
            "/usr/local/lib/python3.7/dist-packages/seaborn/_decorators.py:43: FutureWarning: Pass the following variables as keyword args: x, y. From version 0.12, the only valid positional argument will be `data`, and passing other arguments without an explicit keyword will result in an error or misinterpretation.\n",
            "  FutureWarning\n"
          ],
          "name": "stderr"
        },
        {
          "output_type": "execute_result",
          "data": {
            "text/plain": [
              "Text(0, 0.5, 'Probability Density')"
            ]
          },
          "metadata": {
            "tags": []
          },
          "execution_count": 15
        },
        {
          "output_type": "display_data",
          "data": {
            "image/png": "[encoded data removed]",
            "text/plain": [
              "<Figure size 432x288 with 1 Axes>"
            ]
          },
          "metadata": {
            "tags": []
          }
        }
      ]
    },
    {
      "cell_type": "markdown",
      "metadata": {
        "id": "9a419e17"
      },
      "source": [
        "Suppose X ~ N(5, 6). This says that X is a normally distributed random variable with mean μ = 5 and standard deviation σ = 6. Suppose x = 17. Then:"
      ],
      "id": "9a419e17"
    },
    {
      "cell_type": "code",
      "metadata": {
        "colab": {
          "base_uri": "https://localhost:8080/"
        },
        "id": "5ca95775",
        "outputId": "1ec8f46e-508b-4655-c8fe-23a05df0ce72"
      },
      "source": [
        "x=2.47\n",
        "m= 2.09\n",
        "s =0.52\n",
        "z = (x-m)/s\n",
        "print (\"The Z Score is: \",z)"
      ],
      "id": "5ca95775",
      "execution_count": null,
      "outputs": [
        {
          "output_type": "stream",
          "text": [
            "The Z Score is:  0.7307692307692314\n"
          ],
          "name": "stdout"
        }
      ]
    },
    {
      "cell_type": "code",
      "metadata": {
        "colab": {
          "base_uri": "https://localhost:8080/"
        },
        "id": "e544d51d",
        "outputId": "a2be661b-5b71-41bf-fad7-ad4ebccb861c"
      },
      "source": [
        "69+3.108"
      ],
      "id": "e544d51d",
      "execution_count": null,
      "outputs": [
        {
          "output_type": "execute_result",
          "data": {
            "text/plain": [
              "72.108"
            ]
          },
          "metadata": {
            "tags": []
          },
          "execution_count": 17
        }
      ]
    },
    {
      "cell_type": "code",
      "metadata": {
        "id": "820df5c8"
      },
      "source": [
        ""
      ],
      "id": "820df5c8",
      "execution_count": null,
      "outputs": []
    },
    {
      "cell_type": "markdown",
      "metadata": {
        "id": "beebf6d0"
      },
      "source": [
        "When z is positive, x is above or to the right of μ and when z is negative, x is to the left of or below μ. Or, when z is positive, x is greater than μ, and when z is negative x is less than μ."
      ],
      "id": "beebf6d0"
    },
    {
      "cell_type": "markdown",
      "metadata": {
        "id": "178d5cfd"
      },
      "source": [
        "\n",
        "Some doctors believe that a person can lose **five pounds, on the average**, in a month by reducing his or her fat intake and by exercising consistently. Suppose weight loss has a **normal distribution**. Let X = the amount of weight lost (in pounds) by a person in a month. Use a standard deviation of two pounds. X ~ N(5, 2). Fill in the blanks."
      ],
      "id": "178d5cfd"
    },
    {
      "cell_type": "markdown",
      "metadata": {
        "id": "aee315df"
      },
      "source": [
        "a. Suppose a person lost ten pounds in a month. The z-score when x = 10 pounds is z = 2.5 (verify). This z-score tells you that x = 10 is **2.5** standard deviations to the **right** of the mean 5_____ (What is the mean?)."
      ],
      "id": "aee315df"
    },
    {
      "cell_type": "code",
      "metadata": {
        "colab": {
          "base_uri": "https://localhost:8080/"
        },
        "id": "d63b74e9",
        "outputId": "95a36bd4-40f0-4125-8a07-107e77eb4d33"
      },
      "source": [
        "z = (2.82-2.34)/0.51\n",
        "print (\"The Z Score is: \",z)"
      ],
      "id": "d63b74e9",
      "execution_count": null,
      "outputs": [
        {
          "output_type": "stream",
          "text": [
            "The Z Score is:  0.9411764705882353\n"
          ],
          "name": "stdout"
        }
      ]
    },
    {
      "cell_type": "markdown",
      "metadata": {
        "id": "f301760c"
      },
      "source": [
        "c. Suppose the random variables X and Y have the following normal distributions: X ~ N(5, 6) and Y ~ N(2, 1). If x = 17, then z = 2. (This was previously shown.) If y = 4, what is z"
      ],
      "id": "f301760c"
    },
    {
      "cell_type": "code",
      "metadata": {
        "colab": {
          "base_uri": "https://localhost:8080/"
        },
        "id": "34004d8a",
        "outputId": "4e99ad4f-cb3e-49f4-fe1b-d9dc12f5cce2"
      },
      "source": [
        "z = (129-104)/8\n",
        "print (\"The Z Score of y is: \",z)"
      ],
      "id": "34004d8a",
      "execution_count": null,
      "outputs": [
        {
          "output_type": "stream",
          "text": [
            "The Z Score of y is:  3.125\n"
          ],
          "name": "stdout"
        }
      ]
    },
    {
      "cell_type": "code",
      "metadata": {
        "colab": {
          "base_uri": "https://localhost:8080/"
        },
        "id": "339c799c",
        "outputId": "19766ce5-1bf3-40f3-ec5e-b32308269f7d"
      },
      "source": [
        "0.14*2.8+69"
      ],
      "id": "339c799c",
      "execution_count": null,
      "outputs": [
        {
          "output_type": "execute_result",
          "data": {
            "text/plain": [
              "69.392"
            ]
          },
          "metadata": {
            "tags": []
          },
          "execution_count": 20
        }
      ]
    },
    {
      "cell_type": "markdown",
      "metadata": {
        "id": "ad1de079"
      },
      "source": [
        "The z-score allows us to compare data that are scaled differently. To understand the concept, suppose X ~ N(5, 6) represents weight gains for one group of people who are trying to gain weight in a six week period and Y ~ N(2, 1) measures the same weight gain for a second group of people. A negative weight gain would be a weight loss.        \n",
        "Since x = 17 and y = 4 are each two standard deviations to the right of their means, they represent the same, standardized weight gain relative to their means."
      ],
      "id": "ad1de079"
    },
    {
      "cell_type": "markdown",
      "metadata": {
        "id": "4378b2a8"
      },
      "source": [
        "# Calculations of Probabilities\n",
        "The final exam scores in a statistics class were normally distributed with a mean of 63 and a standard deviation of five.\n",
        "\n",
        "\n",
        "a. Find the probability that a randomly selected student scored more than 65 on the exam."
      ],
      "id": "4378b2a8"
    },
    {
      "cell_type": "code",
      "metadata": {
        "colab": {
          "base_uri": "https://localhost:8080/"
        },
        "id": "5bb42124",
        "outputId": "39c375ee-c6a8-4cb1-c126-750c776f34a5"
      },
      "source": [
        "from scipy.stats import norm\n",
        "p = norm(loc =205.7, scale = 65.8).cdf(230.6)\n",
        "inp = 1-p\n",
        "print (inp)"
      ],
      "id": "5bb42124",
      "execution_count": null,
      "outputs": [
        {
          "output_type": "stream",
          "text": [
            "0.352559509725221\n"
          ],
          "name": "stdout"
        }
      ]
    },
    {
      "cell_type": "markdown",
      "metadata": {
        "id": "08bc09aa"
      },
      "source": [
        "b. Find the probability that a randomly selected student scored less than 85."
      ],
      "id": "08bc09aa"
    },
    {
      "cell_type": "code",
      "metadata": {
        "colab": {
          "base_uri": "https://localhost:8080/"
        },
        "id": "57905249",
        "outputId": "d0c1b933-4086-4be9-e8c9-86b70faa39ab"
      },
      "source": [
        "from scipy.stats import norm\n",
        "p = norm(loc = 7.8, scale = 0.7).cdf(6)\n",
        "\n",
        "print (1-p)"
      ],
      "id": "57905249",
      "execution_count": null,
      "outputs": [
        {
          "output_type": "stream",
          "text": [
            "0.9949360047253046\n"
          ],
          "name": "stdout"
        }
      ]
    },
    {
      "cell_type": "markdown",
      "metadata": {
        "id": "803a5ce8"
      },
      "source": [
        "c. Find the 90th percentile (that is, find the score k that has 90% of the scores below k and 10% of the scores above k)."
      ],
      "id": "803a5ce8"
    },
    {
      "cell_type": "code",
      "metadata": {
        "colab": {
          "base_uri": "https://localhost:8080/"
        },
        "id": "519878b1",
        "outputId": "b151db8c-5210-4254-eba5-094ee5bd227a"
      },
      "source": [
        "from scipy.stats import norm\n",
        "x = norm(loc = 0 , scale = 1).ppf(0.05)\n",
        "print(x)"
      ],
      "id": "519878b1",
      "execution_count": null,
      "outputs": [
        {
          "output_type": "stream",
          "text": [
            "-1.6448536269514729\n"
          ],
          "name": "stdout"
        }
      ]
    },
    {
      "cell_type": "markdown",
      "metadata": {
        "id": "0112db8b"
      },
      "source": [
        "A personal computer is used for office work at home, research, communication, personal finances, education, entertainment, social networking, and a myriad of other things. Suppose that the average number of hours a household personal computer is used for entertainment is two hours per day. Assume the times for entertainment are normally distributed and the standard deviation for the times is half an hour."
      ],
      "id": "0112db8b"
    },
    {
      "cell_type": "markdown",
      "metadata": {
        "id": "fb8942ac"
      },
      "source": [
        "a. Find the probability that a household personal computer is used for entertainment between 1.8 and 2.75 hours per day."
      ],
      "id": "fb8942ac"
    },
    {
      "cell_type": "code",
      "metadata": {
        "colab": {
          "base_uri": "https://localhost:8080/"
        },
        "id": "793cc04c",
        "outputId": "d75751d3-e8ba-47be-fb9a-4e7098c784b4"
      },
      "source": [
        "from scipy.stats import norm\n",
        "p1 = norm(loc = 53.1, scale = 8.1).cdf(67.75)\n",
        "p2 = norm(loc = 53.1 , scale = 8.1).cdf(42.85)\n",
        "\n",
        "print (p1-p2)"
      ],
      "id": "793cc04c",
      "execution_count": null,
      "outputs": [
        {
          "output_type": "stream",
          "text": [
            "0.8618884411795404\n"
          ],
          "name": "stdout"
        }
      ]
    },
    {
      "cell_type": "markdown",
      "metadata": {
        "id": "63284f12"
      },
      "source": [
        "b. Find the maximum number of hours per day that the bottom quartile of households uses a personal computer for entertainment."
      ],
      "id": "63284f12"
    },
    {
      "cell_type": "code",
      "metadata": {
        "colab": {
          "base_uri": "https://localhost:8080/"
        },
        "id": "e002bfc5",
        "outputId": "904c4cc9-fd30-4e4a-aa5e-6ac99ba83ffe"
      },
      "source": [
        "from scipy.stats import norm\n",
        "x = norm(loc = 2 , scale = 0.5).ppf(0.25)\n",
        "print(x)"
      ],
      "id": "e002bfc5",
      "execution_count": null,
      "outputs": [
        {
          "output_type": "stream",
          "text": [
            "1.6627551249019592\n"
          ],
          "name": "stdout"
        }
      ]
    },
    {
      "cell_type": "markdown",
      "metadata": {
        "id": "4a1796b4"
      },
      "source": [
        "In the United States the ages 13 to 55+ of smartphone users approximately follow a normal distribution with approximate mean and standard deviation of 36.9 years and 13.9 years, respectively.\n",
        "\n",
        "\n",
        "a. Determine the probability that a random smartphone user in the age range 13 to 55+ is between 23 and 64.7 years old.\n",
        "b. Determine the probability that a randomly selected smartphone user in the age range 13 to 55+ is at most 50.8 years old.\n",
        "\n",
        "c. Find the 80th percentile of this distribution, and interpret it in a complete sentence."
      ],
      "id": "4a1796b4"
    },
    {
      "cell_type": "code",
      "metadata": {
        "colab": {
          "base_uri": "https://localhost:8080/"
        },
        "id": "f6127b9f",
        "outputId": "faccdc71-e8be-473e-fba8-05a83dd8f623"
      },
      "source": [
        "from scipy.stats import norm\n",
        "p1 = norm(loc = 115.5 , scale = 33.9).cdf(118.1)\n",
        "p2 = norm(loc = 115.5 , scale = 33.9).cdf(99.7)\n",
        "\n",
        "print (p1-p2)"
      ],
      "id": "f6127b9f",
      "execution_count": null,
      "outputs": [
        {
          "output_type": "stream",
          "text": [
            "0.20998707073655992\n"
          ],
          "name": "stdout"
        }
      ]
    },
    {
      "cell_type": "code",
      "metadata": {
        "colab": {
          "base_uri": "https://localhost:8080/"
        },
        "id": "c3c45091",
        "outputId": "2db5c33e-4df9-423a-ec82-7a900a84ca3f"
      },
      "source": [
        "from scipy.stats import norm\n",
        "p = norm(loc = 249.3 , scale = 6.6).cdf(251)\n",
        "\n",
        "print (p)"
      ],
      "id": "c3c45091",
      "execution_count": null,
      "outputs": [
        {
          "output_type": "stream",
          "text": [
            "0.6016328294066581\n"
          ],
          "name": "stdout"
        }
      ]
    },
    {
      "cell_type": "code",
      "metadata": {
        "colab": {
          "base_uri": "https://localhost:8080/"
        },
        "id": "7e5fabd1",
        "outputId": "cfce668d-c4a4-4652-fde7-ad10b19c7c6c"
      },
      "source": [
        "from scipy.stats import norm\n",
        "x = norm(loc = 0 , scale = 1).ppf(0.67)\n",
        "print(x)"
      ],
      "id": "7e5fabd1",
      "execution_count": null,
      "outputs": [
        {
          "output_type": "stream",
          "text": [
            "0.4399131656732339\n"
          ],
          "name": "stdout"
        }
      ]
    },
    {
      "cell_type": "code",
      "metadata": {
        "colab": {
          "base_uri": "https://localhost:8080/"
        },
        "id": "853eabc2",
        "outputId": "842dc92f-cee8-414b-c35a-1c56abacdf90"
      },
      "source": [
        "from scipy.stats import norm\n",
        "x1 = norm(loc = 44.8 , scale = 3.2).ppf(0.99)\n",
        "x2 = norm(loc = 44.8 , scale = 3.2).ppf(0.01)\n",
        "\n",
        "print (x1)"
      ],
      "id": "853eabc2",
      "execution_count": null,
      "outputs": [
        {
          "output_type": "stream",
          "text": [
            "52.24431319693069\n"
          ],
          "name": "stdout"
        }
      ]
    },
    {
      "cell_type": "markdown",
      "metadata": {
        "id": "4d1612df"
      },
      "source": [
        "Two thousand students took an exam. The scores on the exam have an approximate normal distribution with a mean μ = 81 points and standard deviation σ = 15 points.\n",
        "Calculate the first- and third-quartile scores for this exam.\n",
        "The middle 50% of the exam scores are between what two values?"
      ],
      "id": "4d1612df"
    },
    {
      "cell_type": "code",
      "metadata": {
        "colab": {
          "base_uri": "https://localhost:8080/"
        },
        "id": "80f233b4",
        "outputId": "44b93d3d-87ff-48e4-ada8-2e3d3cfd397e"
      },
      "source": [
        "from scipy.stats import norm\n",
        "x = norm(loc = 81 , scale = 15).ppf(0.25)\n",
        "print(x)\n",
        "x = norm(loc = 81 , scale = 15).ppf(0.75)\n",
        "print(x)"
      ],
      "id": "80f233b4",
      "execution_count": null,
      "outputs": [
        {
          "output_type": "stream",
          "text": [
            "70.88265374705878\n",
            "91.11734625294122\n"
          ],
          "name": "stdout"
        }
      ]
    },
    {
      "cell_type": "markdown",
      "metadata": {
        "id": "49d11c09"
      },
      "source": [
        "## Central Limit Theorem\n",
        "The central limit theorem (CLT for short) is one of the most powerful and useful ideas in all of statistics.\n",
        "There are two alternative forms of the theorem, and both alternatives are concerned with drawing finite\n",
        "samples size n from a population with a known mean, μ, and a known standard deviation, σ. The first\n",
        "alternative says that if we collect samples of size n with a “large enough n,” calculate each sample’s mean, and\n",
        "create a histogram of those means, then the resulting histogram will tend to have an approximate normal\n",
        "bell shape. The second alternative says that if we again collect samples of size n that are “large enough,”\n",
        "calculate the sum of each sample and create a histogram, then the resulting histogram will again tend to\n",
        "have a normal bell-shape.          \n",
        "The size of the sample, n, that is required in order to be “large enough” depends on the original population\n",
        "from which the samples are drawn (the sample size should be at least 30 or the data should come from a normal\n",
        "distribution). If the original population is far from normal, then more observations are needed for the sample\n",
        "means or sums to be normal. Sampling is done with replacement."
      ],
      "id": "49d11c09"
    },
    {
      "cell_type": "markdown",
      "metadata": {
        "id": "93ccfc7f"
      },
      "source": [
        "Suppose X is a random variable with a distribution that may be known or unknown (it can be any distribution).\n",
        "Using a subscript that matches the random variable, suppose:\n",
        "a. μX = the mean of X\n",
        "b. σX = the standard deviation of X\n",
        "If you draw random samples of size n, then as n increases, the random variable X ̄ which consists of sample means,\n",
        "tends to be normally distributed and\n",
        "\n",
        "X ̄ ∼ N(μX,σX/√n)\n",
        "\n",
        "To put it more formally, if you draw random samples of size n, the distribution of the random variable X ̄ , which\n",
        "consists of sample means, is called the sampling distribution of the mean. The sampling distribution of the\n",
        "mean approaches a normal distribution as n, the sample size, increases.\n",
        "The random variable X ̄ has a different z-score associated with it from that of the random variable X. The mean  ̄\n",
        "x\n",
        "\n",
        "is the value of X ̄ in one sample.\n",
        "\n",
        "z =  ̄x −μ/(σx/√n)\n",
        "\n",
        "μX is the average of both X and X ̄.\n",
        "σ ̄x = σx/√n\n",
        "= standard deviation of X ̄ and is called the standard error of the mean."
      ],
      "id": "93ccfc7f"
    },
    {
      "cell_type": "code",
      "metadata": {
        "colab": {
          "base_uri": "https://localhost:8080/"
        },
        "id": "0a9ba1ac",
        "outputId": "c0cc9de0-198b-445e-b169-ec31f264a652"
      },
      "source": [
        "import math\n",
        "print(\"Standard deviation of mean of X or standard error\")\n",
        "sd = 57.4/math.sqrt(45)\n",
        "sd"
      ],
      "id": "0a9ba1ac",
      "execution_count": null,
      "outputs": [
        {
          "output_type": "stream",
          "text": [
            "Standard deviation of mean of X or standard error\n"
          ],
          "name": "stdout"
        },
        {
          "output_type": "execute_result",
          "data": {
            "text/plain": [
              "8.556686793899194"
            ]
          },
          "metadata": {
            "tags": []
          },
          "execution_count": 31
        }
      ]
    },
    {
      "cell_type": "code",
      "metadata": {
        "colab": {
          "base_uri": "https://localhost:8080/"
        },
        "id": "9982ad0d",
        "outputId": "6e6f0c1f-1142-4625-a041-f853cc7eb4a1"
      },
      "source": [
        "from scipy.stats import norm\n",
        "p = norm(loc = 199.9 , scale = sd).cdf(203.3)\n",
        "\n",
        "print (p)"
      ],
      "id": "9982ad0d",
      "execution_count": null,
      "outputs": [
        {
          "output_type": "stream",
          "text": [
            "0.6544453311109263\n"
          ],
          "name": "stdout"
        }
      ]
    },
    {
      "cell_type": "code",
      "metadata": {
        "colab": {
          "base_uri": "https://localhost:8080/"
        },
        "id": "f116eee9",
        "outputId": "bb31e7ee-8a1d-48f0-f414-b7fe47eb9f32"
      },
      "source": [
        "from scipy.stats import norm\n",
        "x = norm(loc = 549 , scale = sd).ppf(0.87)\n",
        "print(x)"
      ],
      "id": "f116eee9",
      "execution_count": null,
      "outputs": [
        {
          "output_type": "stream",
          "text": [
            "558.6381760986116\n"
          ],
          "name": "stdout"
        }
      ]
    },
    {
      "cell_type": "code",
      "metadata": {
        "colab": {
          "base_uri": "https://localhost:8080/"
        },
        "id": "35cb8d4d",
        "outputId": "92eadcd5-6d28-4ab0-8969-d0c062078bad"
      },
      "source": [
        "from scipy.stats import norm\n",
        "p1 = norm(loc = 115.5 , scale = sd).cdf(118.1)\n",
        "p2 = norm(loc = 115.5 , scale = sd).cdf(99.7)\n",
        "print (p1-p2)"
      ],
      "id": "35cb8d4d",
      "execution_count": null,
      "outputs": [
        {
          "output_type": "stream",
          "text": [
            "0.5869720120585459\n"
          ],
          "name": "stdout"
        }
      ]
    },
    {
      "cell_type": "markdown",
      "metadata": {
        "id": "58c7a0b2"
      },
      "source": [
        "# central limit theorem for sums\n",
        "If you draw random samples of size n, then as n increases, the random variable ΣX consisting of sum of Xs in n tends to\n",
        "be normally distributed and ΣΧ ∼ N((n)(μΧ), (√n )(σΧ))            \n",
        "\n",
        "\n",
        "The central limit theorem for sums says that if you repeatedly draw samples of a given size (such as repeatedly\n",
        "rolling ten dice) and calculate the sum of each sample, these sums tend to follow a normal distribution. As sample\n",
        "sizes increase, the distribution of means more closely follows the normal distribution.           \n",
        "The normal distribution has a mean equal to the original mean multiplied by the sample size and a standard deviation equal to the\n",
        "original standard deviation multiplied by the square root of the sample size.\n",
        "The random variable ΣX has the following z-score associated with it:        \n",
        "\n",
        "a. Σx is one sum.        \n",
        "\n",
        "b. z = Σx − (n)(μX)/(√n )(σX)        \n",
        "\n",
        "i. (n)(μX) = the mean of ΣX          \n",
        "\n",
        "ii. (√n)(σX) = standard deviation of ΣX\n"
      ],
      "id": "58c7a0b2"
    },
    {
      "cell_type": "markdown",
      "metadata": {
        "id": "93b2e4d6"
      },
      "source": [
        "# For proportions\n",
        "Suppose random samples of size  n  are drawn from a population in which the proportion with a characteristic of interest is  p . The mean  μP^  and standard deviation  σP^  of the sample proportion  P^  satisfy\n",
        "        \n",
        "        \n",
        "μP^=p\n",
        "and\n",
        "         \n",
        "         \n",
        "σP^= √pq/n        \n",
        "\n",
        "where  q=1−p ."
      ],
      "id": "93b2e4d6"
    },
    {
      "cell_type": "code",
      "metadata": {
        "id": "3ef26a69"
      },
      "source": [
        "p=0.52\n",
        "q=1-p\n",
        "n=197\n",
        "s=165\n",
        "x=s/n\n",
        "sp = math.sqrt((p*q)/n)\n",
        "#lm = n*p\n",
        "#ss= math.sqrt(n)*sp"
      ],
      "id": "3ef26a69",
      "execution_count": null,
      "outputs": []
    },
    {
      "cell_type": "code",
      "metadata": {
        "colab": {
          "base_uri": "https://localhost:8080/"
        },
        "id": "ee8e3260",
        "outputId": "773fb46e-8582-4a6c-e851-e281b38b79f2"
      },
      "source": [
        "sp"
      ],
      "id": "ee8e3260",
      "execution_count": null,
      "outputs": [
        {
          "output_type": "execute_result",
          "data": {
            "text/plain": [
              "0.035595014765302906"
            ]
          },
          "metadata": {
            "tags": []
          },
          "execution_count": 36
        }
      ]
    },
    {
      "cell_type": "code",
      "metadata": {
        "colab": {
          "base_uri": "https://localhost:8080/"
        },
        "id": "aec674cb",
        "outputId": "77bc5b1c-3f6a-4e44-d0a2-36bbc94aa94f"
      },
      "source": [
        "from scipy.stats import norm\n",
        "pr = norm(loc = p , scale = sp).cdf(x)\n",
        "\n",
        "print (100-(pr*100))\n",
        "#print (pr)"
      ],
      "id": "aec674cb",
      "execution_count": null,
      "outputs": [
        {
          "output_type": "stream",
          "text": [
            "0.0\n"
          ],
          "name": "stdout"
        }
      ]
    },
    {
      "cell_type": "code",
      "metadata": {
        "colab": {
          "base_uri": "https://localhost:8080/"
        },
        "id": "ee3d3bc0",
        "outputId": "2f6b7941-85ef-4671-f460-90da7aed3e85"
      },
      "source": [
        "from scipy.stats import norm\n",
        "pr = norm(loc = p , scale = sp).cdf(0.08)\n",
        "\n",
        "#print (100-(pr*100))\n",
        "print (pr*100)"
      ],
      "id": "ee3d3bc0",
      "execution_count": null,
      "outputs": [
        {
          "output_type": "stream",
          "text": [
            "2.116764799090607e-33\n"
          ],
          "name": "stdout"
        }
      ]
    },
    {
      "cell_type": "markdown",
      "metadata": {
        "id": "f72e0a88"
      },
      "source": [
        "### The t- test statistic"
      ],
      "id": "f72e0a88"
    },
    {
      "cell_type": "code",
      "metadata": {
        "colab": {
          "base_uri": "https://localhost:8080/"
        },
        "id": "ff8437c1",
        "outputId": "61dc9b98-d208-4aa6-9a79-841a8fa6f4f5"
      },
      "source": [
        "from scipy.stats import t \n",
        "\n",
        "\n",
        "ttst= t(loc = 0 , scale = 1,df=24-1).ppf(0.025)\n",
        "ttst"
      ],
      "id": "ff8437c1",
      "execution_count": null,
      "outputs": [
        {
          "output_type": "execute_result",
          "data": {
            "text/plain": [
              "-2.068657610419041"
            ]
          },
          "metadata": {
            "tags": []
          },
          "execution_count": 39
        }
      ]
    },
    {
      "cell_type": "markdown",
      "metadata": {
        "id": "0ddcb81a"
      },
      "source": [
        "## Confidence Intervals"
      ],
      "id": "0ddcb81a"
    },
    {
      "cell_type": "markdown",
      "metadata": {
        "id": "aabfd6b2"
      },
      "source": [
        "Among various ethnic groups, the standard deviation of heights is known to be approximately three inches. We wish to construct a 95% confidence interval for the mean height of male Swedes. Forty-eight male Swedes are surveyed. The sample mean is 72 inches. Round answers to 3 decimal places."
      ],
      "id": "aabfd6b2"
    },
    {
      "cell_type": "code",
      "metadata": {
        "colab": {
          "base_uri": "https://localhost:8080/"
        },
        "id": "b25420d9",
        "outputId": "a8746ace-4040-4d55-9629-5a73734056ef"
      },
      "source": [
        "import math\n",
        "z= norm(loc = 0 , scale = 1).ppf(0.005) #stamdard normal dist --imverse\n",
        "s=9\n",
        "n=26\n",
        "m =42\n",
        "eb = abs(z)*(s/math.sqrt(n))\n",
        "ci1 = m-eb\n",
        "ci2 = m+eb\n",
        "print(\"Error bound: \",eb)\n",
        "print (\"Confidence interval: (\",ci1,\",\",ci2,\")\")"
      ],
      "id": "b25420d9",
      "execution_count": null,
      "outputs": [
        {
          "output_type": "stream",
          "text": [
            "Error bound:  4.546455190089217\n",
            "Confidence interval: ( 37.45354480991078 , 46.54645519008922 )\n"
          ],
          "name": "stdout"
        }
      ]
    },
    {
      "cell_type": "code",
      "metadata": {
        "colab": {
          "base_uri": "https://localhost:8080/"
        },
        "id": "9638acc4",
        "outputId": "d928cc7c-b040-4d5c-8c9e-9e2cf328ede1"
      },
      "source": [
        "from scipy.stats import t \n",
        "\n",
        "n=11\n",
        "s=10.8\n",
        "\n",
        "m =35.2\n",
        "z= t(loc = 0 , scale = 1,df=n-1).ppf(0.005)\n",
        "eb = abs(z)*(s/math.sqrt(n))\n",
        "ci1 = m-eb\n",
        "ci2 = m+eb\n",
        "print(\"Error bound: \",eb)\n",
        "print (\"Confidence interval: (\",ci1,\",\",ci2,\")\")"
      ],
      "id": "9638acc4",
      "execution_count": null,
      "outputs": [
        {
          "output_type": "stream",
          "text": [
            "Error bound:  10.320173962708415\n",
            "Confidence interval: ( 24.879826037291586 , 45.52017396270842 )\n"
          ],
          "name": "stdout"
        }
      ]
    },
    {
      "cell_type": "code",
      "metadata": {
        "colab": {
          "base_uri": "https://localhost:8080/"
        },
        "id": "ffe4fcee",
        "outputId": "ccedfdef-5e38-4e0b-dcfd-5be1dec69668"
      },
      "source": [
        "import numpy as np\n",
        "sample =[68.8, 60.3, 66.6, 67.2, 71.8, 71.1, 60.2, 66.2, 59.7, 63.7]\n",
        "np.mean(sample)"
      ],
      "id": "ffe4fcee",
      "execution_count": null,
      "outputs": [
        {
          "output_type": "execute_result",
          "data": {
            "text/plain": [
              "65.56"
            ]
          },
          "metadata": {
            "tags": []
          },
          "execution_count": 42
        }
      ]
    },
    {
      "cell_type": "code",
      "metadata": {
        "colab": {
          "base_uri": "https://localhost:8080/"
        },
        "id": "f9f6efff",
        "outputId": "9e34a58d-b526-495e-be26-8086a86c2502"
      },
      "source": [
        "from scipy.stats import t \n",
        "import statistics as st\n",
        "\n",
        "n=10\n",
        "s=st.stdev(sample)\n",
        "m = st.mean(sample)\n",
        "z= t(loc = 0 , scale = 1,df=n-1).ppf(0.025)\n",
        "eb = abs(z)*(s/math.sqrt(n))\n",
        "ci1 = m-eb\n",
        "ci2 = m+eb\n",
        "print(\"Error bound: \",eb)\n",
        "print (\"Confidence interval: (\",ci1,\",\",ci2,\")\")"
      ],
      "id": "f9f6efff",
      "execution_count": null,
      "outputs": [
        {
          "output_type": "stream",
          "text": [
            "Error bound:  3.185851259145613\n",
            "Confidence interval: ( 62.37414874085439 , 68.74585125914561 )\n"
          ],
          "name": "stdout"
        }
      ]
    },
    {
      "cell_type": "code",
      "metadata": {
        "colab": {
          "base_uri": "https://localhost:8080/"
        },
        "id": "93ed95fc",
        "outputId": "d8d00706-4502-46bd-be5a-c41ec7208cad"
      },
      "source": [
        "abs(z)"
      ],
      "id": "93ed95fc",
      "execution_count": null,
      "outputs": [
        {
          "output_type": "execute_result",
          "data": {
            "text/plain": [
              "2.262157162740992"
            ]
          },
          "metadata": {
            "tags": []
          },
          "execution_count": 44
        }
      ]
    },
    {
      "cell_type": "markdown",
      "metadata": {
        "id": "4bb74b28"
      },
      "source": [
        "We want to obtain a sample to estimate a population mean. Based on previous evidence, researchers believe the population standard deviation is approximately \n",
        "σ\n",
        "=\n",
        "1.8\n",
        ". We would like to be 99% confident that the esimate is within 0.5 of the true population mean. How large of a sample size is required?"
      ],
      "id": "4bb74b28"
    },
    {
      "cell_type": "code",
      "metadata": {
        "colab": {
          "base_uri": "https://localhost:8080/"
        },
        "id": "dfce100a",
        "outputId": "8fe5c4b4-7326-4133-8a99-37a8cab1b9f8"
      },
      "source": [
        "z= norm(loc = 0 , scale = 1).ppf(0.025) \n",
        "t = eb/(s/math.sqrt(n))\n",
        "s = 1.9\n",
        "eb = 0.4\n",
        "n =(abs(z)*s)/eb\n",
        "n*n"
      ],
      "id": "dfce100a",
      "execution_count": null,
      "outputs": [
        {
          "output_type": "execute_result",
          "data": {
            "text/plain": [
              "86.67291464191122"
            ]
          },
          "metadata": {
            "tags": []
          },
          "execution_count": 45
        }
      ]
    },
    {
      "cell_type": "markdown",
      "metadata": {
        "id": "984fbe6b"
      },
      "source": [
        "In a survey funded by the University of Washington School of Medicine, 900 of 1,500 adult Seattle residents said they did not believe they could come down with a sexually transmitted infection (STI). Construct a 95% confidence interval estimating the proportion of adult Seattle residents that do not believe they can contract an STI. Round the answers to three decimal places."
      ],
      "id": "984fbe6b"
    },
    {
      "cell_type": "code",
      "metadata": {
        "colab": {
          "base_uri": "https://localhost:8080/"
        },
        "id": "3ae5b80b",
        "outputId": "0974ccff-8cf9-4a03-cfb4-979ad4301ad2"
      },
      "source": [
        "import math\n",
        "from scipy.stats import norm\n",
        "\n",
        "x=128\n",
        "n=150\n",
        "p=x/n\n",
        "#p=0.7\n",
        "q=1-p\n",
        "sp = math.sqrt((p*q)/n)\n",
        "z= norm(loc = 0 , scale = 1).ppf(0.05)\n",
        "eb = abs(z)*sp\n",
        "ci1 = p-eb\n",
        "ci2 = p+eb\n",
        "print(\"Error bound: \",eb)\n",
        "print (\"Confidence interval: (\",ci1,\",\",ci2,\")\")"
      ],
      "id": "3ae5b80b",
      "execution_count": null,
      "outputs": [
        {
          "output_type": "stream",
          "text": [
            "Error bound:  0.04751236990349694\n",
            "Confidence interval: ( 0.8058209634298364 , 0.9008457032368303 )\n"
          ],
          "name": "stdout"
        }
      ]
    },
    {
      "cell_type": "code",
      "metadata": {
        "colab": {
          "base_uri": "https://localhost:8080/"
        },
        "id": "636d2b8a",
        "outputId": "5450bf17-e397-4ed9-af2f-7d8a6ef9ba82"
      },
      "source": [
        "n*p*q"
      ],
      "id": "636d2b8a",
      "execution_count": null,
      "outputs": [
        {
          "output_type": "execute_result",
          "data": {
            "text/plain": [
              "18.773333333333326"
            ]
          },
          "metadata": {
            "tags": []
          },
          "execution_count": 47
        }
      ]
    },
    {
      "cell_type": "code",
      "metadata": {
        "colab": {
          "base_uri": "https://localhost:8080/"
        },
        "id": "8beb31cd",
        "outputId": "d51051e4-bb62-4089-e4ca-9207fe414b87"
      },
      "source": [
        "p"
      ],
      "id": "8beb31cd",
      "execution_count": null,
      "outputs": [
        {
          "output_type": "execute_result",
          "data": {
            "text/plain": [
              "0.8533333333333334"
            ]
          },
          "metadata": {
            "tags": []
          },
          "execution_count": 48
        }
      ]
    },
    {
      "cell_type": "markdown",
      "metadata": {
        "id": "d7cc773f"
      },
      "source": [
        "A political candidate has asked his/her assistant to conduct a poll to determine the percentage of people in the community that supports him/her. If the candidate wants a 8% margin of error at a 99% confidence level, what size of sample is needed? Be sure to round accordingly."
      ],
      "id": "d7cc773f"
    },
    {
      "cell_type": "code",
      "metadata": {
        "colab": {
          "base_uri": "https://localhost:8080/"
        },
        "id": "eebfb80d",
        "outputId": "8e72a1e0-3316-4971-a4e7-39c4fe7733ff"
      },
      "source": [
        "z= norm(loc = 0 , scale = 1).ppf(0.005) \n",
        "p=0.5\n",
        "q =1-p\n",
        "s = math.sqrt(p*q)\n",
        "eb = 0.08\n",
        "n =(abs(z)*s)/eb\n",
        "n*n"
      ],
      "id": "eebfb80d",
      "execution_count": null,
      "outputs": [
        {
          "output_type": "execute_result",
          "data": {
            "text/plain": [
              "259.17564847739123"
            ]
          },
          "metadata": {
            "tags": []
          },
          "execution_count": 49
        }
      ]
    },
    {
      "cell_type": "markdown",
      "metadata": {
        "id": "26a9b0a7"
      },
      "source": [
        "## Hypothesis Testing\n",
        "A hypothesis test involves collecting data from a sample and evaluating the data. Then, the statistician makes a decision as to\n",
        "whether or not there is sufficient evidence, based upon analyses of the data, to reject the null hypothesis.       \n",
        "\n",
        "**H<sub>0</sub>: The null hypothesis:** It is a statement of no difference between the variables—they are not related. This  can often be considered the status quo and as a result if you cannot accept the null it requires some action.        \n",
        "\n",
        "**H<sub>a</sub>: The alternative hypothesis:** It is a claim about the population that is contradictory to H0 and what we  conclude when we reject H0.       \n",
        "Note: H0 always has a symbol with an equal in it. Ha never has a symbol with an equal in it. \n",
        "\n",
        "![image.png](attachment:image.png)      \n",
        "\n",
        "**α** = probability of a Type I error = P(Type I error) = probability of rejecting the null hypothesis when the null  hypothesis is true.       \n",
        "\n",
        "**β** = probability of a Type II error = P(Type II error) = probability of not rejecting the null hypothesis when  the null hypothesis is false.         \n",
        "α and β should be as small as possible because they are probabilities of errors. They are rarely zero.      \n",
        "\n",
        "The Power of the Test is 1 − β. Ideally, we want a high power that is as close to one as possible. Increasing the  sample size can increase the Power of the Test.         \n",
        "### Distribution needed for hypothesis testing\n",
        "Perform tests of a population mean using a normal distribution or a Student’s t-distribution.       \n",
        "Use a Student’s t-distribution when the population standard deviation is unknown and the distribution of the sample mean is approximately normal.        \n",
        "We perform tests of a population proportion using a normal distribution (usually n is large).\n",
        "![image-3.png](attachment:image-3.png)"
      ],
      "id": "26a9b0a7"
    },
    {
      "cell_type": "markdown",
      "metadata": {
        "id": "293210bd"
      },
      "source": [
        "• If α > p-value, reject H0. The results of the sample data are significant. There is sufficient evidence to\n",
        "conclude that H0 is an incorrect belief and that the alternative hypothesis, Ha, may be correct.\n",
        "• If α ≤ p-value, do not reject H0\n",
        "\n",
        ". The results of the sample data are not significant. There is not sufficient\n",
        "\n",
        "evidence to conclude that the alternative hypothesis, Ha, may be correct.\n",
        "• When you “do not reject H0\n",
        "\n",
        "”, it does not mean that you should believe that H0\n",
        "\n",
        "is true. It simply means that\n",
        "the sample data have failed to provide sufficient evidence to cast serious doubt about the truthfulness of         \n",
        "In a hypothesis test problem, you may see words such as “the level of significance is 1%.” The “1%” is the\n",
        "preconceived or preset α."
      ],
      "id": "293210bd"
    },
    {
      "cell_type": "markdown",
      "metadata": {
        "id": "8f1daaa0"
      },
      "source": [
        "### Calculating the z-score "
      ],
      "id": "8f1daaa0"
    },
    {
      "cell_type": "code",
      "metadata": {
        "colab": {
          "base_uri": "https://localhost:8080/"
        },
        "id": "f72e4541",
        "outputId": "bfd28e51-f90c-48a1-86f7-34ddf0da4c36"
      },
      "source": [
        "x=27524\n",
        "m=25235\n",
        "sd=6000\n",
        "z = (x-m)/sd\n",
        "print (\"The Z Score is: \",z)"
      ],
      "id": "f72e4541",
      "execution_count": 1,
      "outputs": [
        {
          "output_type": "stream",
          "name": "stdout",
          "text": [
            "The Z Score is:  0.3815\n"
          ]
        }
      ]
    },
    {
      "cell_type": "markdown",
      "metadata": {
        "id": "e9456e05"
      },
      "source": [
        "### Calculating the t-score**"
      ],
      "id": "e9456e05"
    },
    {
      "cell_type": "code",
      "metadata": {
        "colab": {
          "base_uri": "https://localhost:8080/"
        },
        "id": "4c308483",
        "outputId": "5295a1c8-18f7-4dc9-b187-dc5b5560075e"
      },
      "source": [
        "import math\n",
        "\n",
        "m=10\n",
        "n=40\n",
        "xm=11\n",
        "sd=3\n",
        "ts = (xm-m)/(sd/math.sqrt(n))\n",
        "print (\"The T Score is: \",ts)"
      ],
      "id": "4c308483",
      "execution_count": 2,
      "outputs": [
        {
          "output_type": "stream",
          "name": "stdout",
          "text": [
            "The T Score is:  2.1081851067789197\n"
          ]
        }
      ]
    },
    {
      "cell_type": "markdown",
      "metadata": {
        "id": "53171326"
      },
      "source": [
        "### Calculating the p-value using t statistic"
      ],
      "id": "53171326"
    },
    {
      "cell_type": "code",
      "metadata": {
        "colab": {
          "base_uri": "https://localhost:8080/"
        },
        "id": "b38bea4e",
        "outputId": "3797a35f-f612-4a61-c2e0-76e0b15fe9d7"
      },
      "source": [
        "from scipy.stats import t \n",
        "\n",
        "tt= t(loc = 0 , scale =1 ,df=n-1).cdf(ts)\n",
        "tt\n"
      ],
      "id": "b38bea4e",
      "execution_count": 3,
      "outputs": [
        {
          "output_type": "execute_result",
          "data": {
            "text/plain": [
              "0.9792539979764145"
            ]
          },
          "metadata": {},
          "execution_count": 3
        }
      ]
    },
    {
      "cell_type": "code",
      "metadata": {
        "colab": {
          "base_uri": "https://localhost:8080/"
        },
        "id": "24e372ac",
        "outputId": "6ed529a5-93d8-4aa9-c290-22c1799cf4b7"
      },
      "source": [
        "1-tt"
      ],
      "id": "24e372ac",
      "execution_count": 4,
      "outputs": [
        {
          "output_type": "execute_result",
          "data": {
            "text/plain": [
              "0.020746002023585453"
            ]
          },
          "metadata": {},
          "execution_count": 4
        }
      ]
    },
    {
      "cell_type": "markdown",
      "metadata": {
        "id": "7a8eba17"
      },
      "source": [
        "### Calculating p-value from significance level"
      ],
      "id": "7a8eba17"
    },
    {
      "cell_type": "markdown",
      "metadata": {
        "id": "9487685e"
      },
      "source": [
        "significance_level = p-value"
      ],
      "id": "9487685e"
    },
    {
      "cell_type": "markdown",
      "metadata": {
        "id": "f21af4cf"
      },
      "source": [
        "### Calculating the z score for proportions"
      ],
      "id": "f21af4cf"
    },
    {
      "cell_type": "code",
      "metadata": {
        "colab": {
          "base_uri": "https://localhost:8080/"
        },
        "id": "b2a14256",
        "outputId": "d2891a88-0696-48fd-a928-c20304d01551"
      },
      "source": [
        "import math\n",
        "#pop prortion is the mean\n",
        "p=0.67\n",
        "q =1-p\n",
        "n=186\n",
        "# sample proportion is thex bar\n",
        "xm=97/n\n",
        "psd= math.sqrt((p*q)/n)\n",
        "z = (xm-p)/psd\n",
        "print (\"The Z Score is: \",z)"
      ],
      "id": "b2a14256",
      "execution_count": 5,
      "outputs": [
        {
          "output_type": "stream",
          "name": "stdout",
          "text": [
            "The Z Score is:  -4.306979759783186\n"
          ]
        }
      ]
    },
    {
      "cell_type": "code",
      "metadata": {
        "colab": {
          "base_uri": "https://localhost:8080/"
        },
        "id": "e991d8c5",
        "outputId": "cab63836-e8aa-4a92-b608-8ccc7662da72"
      },
      "source": [
        "n *p*q"
      ],
      "id": "e991d8c5",
      "execution_count": 6,
      "outputs": [
        {
          "output_type": "execute_result",
          "data": {
            "text/plain": [
              "41.124599999999994"
            ]
          },
          "metadata": {},
          "execution_count": 6
        }
      ]
    },
    {
      "cell_type": "code",
      "metadata": {
        "id": "f91aa365"
      },
      "source": [
        "p=0.3\n",
        "q=1-p\n",
        "n=800\n",
        "outcm=296\n",
        "x=outcm/n\n",
        "psd = math.sqrt((p*q)/n)"
      ],
      "id": "f91aa365",
      "execution_count": 7,
      "outputs": []
    },
    {
      "cell_type": "markdown",
      "metadata": {
        "id": "2569a322"
      },
      "source": [
        "### Calculating the p-value using proportions"
      ],
      "id": "2569a322"
    },
    {
      "cell_type": "code",
      "metadata": {
        "colab": {
          "base_uri": "https://localhost:8080/"
        },
        "id": "b320bd9c",
        "outputId": "d0630222-1c2c-4393-cf0e-1c628cc82998"
      },
      "source": [
        "0.37*800"
      ],
      "id": "b320bd9c",
      "execution_count": 8,
      "outputs": [
        {
          "output_type": "execute_result",
          "data": {
            "text/plain": [
              "296.0"
            ]
          },
          "metadata": {},
          "execution_count": 8
        }
      ]
    },
    {
      "cell_type": "markdown",
      "metadata": {
        "id": "c984a7de"
      },
      "source": [
        "**Using binomial distribution when npq is less than 10**"
      ],
      "id": "c984a7de"
    },
    {
      "cell_type": "code",
      "metadata": {
        "colab": {
          "base_uri": "https://localhost:8080/"
        },
        "id": "a1e65365",
        "outputId": "3b5f04c7-7be0-4538-de3c-cc4b83d6f22b"
      },
      "source": [
        "from scipy.stats import binom\n",
        "\n",
        "#calculate binomial probability\n",
        "binom.cdf(k=outcm, n=n, p=p)"
      ],
      "id": "a1e65365",
      "execution_count": 9,
      "outputs": [
        {
          "output_type": "execute_result",
          "data": {
            "text/plain": [
              "0.9999905992743402"
            ]
          },
          "metadata": {},
          "execution_count": 9
        }
      ]
    },
    {
      "cell_type": "markdown",
      "metadata": {
        "id": "6fd6ab34"
      },
      "source": [
        "**Using Normal distribution when npq is greater than 10**"
      ],
      "id": "6fd6ab34"
    },
    {
      "cell_type": "code",
      "metadata": {
        "colab": {
          "base_uri": "https://localhost:8080/"
        },
        "id": "ebf5762d",
        "outputId": "f44e43fc-c6d5-4029-863b-3ab4819fb9aa"
      },
      "source": [
        "from scipy.stats import norm\n",
        "p = norm(loc = 0, scale = 1).cdf(z)\n",
        "p"
      ],
      "id": "ebf5762d",
      "execution_count": 10,
      "outputs": [
        {
          "output_type": "execute_result",
          "data": {
            "text/plain": [
              "8.274937351243217e-06"
            ]
          },
          "metadata": {},
          "execution_count": 10
        }
      ]
    },
    {
      "cell_type": "markdown",
      "metadata": {
        "id": "9f78be2e"
      },
      "source": [
        "#### For a two tailed hypothesis -- using proportion"
      ],
      "id": "9f78be2e"
    },
    {
      "cell_type": "code",
      "metadata": {
        "colab": {
          "base_uri": "https://localhost:8080/"
        },
        "id": "747cac73",
        "outputId": "23c5493a-7890-4343-8c52-74ad33f61f12"
      },
      "source": [
        "from scipy.stats import norm\n",
        "p = norm(loc = 0, scale = 1).cdf(z)\n",
        "p*2"
      ],
      "id": "747cac73",
      "execution_count": 11,
      "outputs": [
        {
          "output_type": "execute_result",
          "data": {
            "text/plain": [
              "1.6549874702486434e-05"
            ]
          },
          "metadata": {},
          "execution_count": 11
        }
      ]
    },
    {
      "cell_type": "markdown",
      "metadata": {
        "id": "395b2137"
      },
      "source": [
        "### Given a list of samples"
      ],
      "id": "395b2137"
    },
    {
      "cell_type": "code",
      "metadata": {
        "id": "d6f50255"
      },
      "source": [
        ""
      ],
      "id": "d6f50255",
      "execution_count": 11,
      "outputs": []
    },
    {
      "cell_type": "code",
      "metadata": {
        "colab": {
          "base_uri": "https://localhost:8080/"
        },
        "id": "8e37cc01",
        "outputId": "2fb28e82-1844-4499-8049-f5431b9b1300"
      },
      "source": [
        "import numpy as np\n",
        "sample =[102.95, 89.37, 86.06, 96.26, 88.63, 85.6, 87.24, 90.33,\n",
        "         87.4, 91.72, 84.05, 87.11, 92.37, 88.35, 89.14, 93.79, \n",
        "         95.7, 85.43, 100.66, 87.61, 92.44, 90.07, 86.22, \n",
        "         99.45, 88.1, 92.53, 85]\n",
        "smean =np.mean(sample)\n",
        "smean"
      ],
      "id": "8e37cc01",
      "execution_count": 12,
      "outputs": [
        {
          "output_type": "execute_result",
          "data": {
            "text/plain": [
              "90.50296296296295"
            ]
          },
          "metadata": {},
          "execution_count": 12
        }
      ]
    },
    {
      "cell_type": "code",
      "metadata": {
        "colab": {
          "base_uri": "https://localhost:8080/"
        },
        "id": "af96613e",
        "outputId": "163ed4f9-2ce5-4396-c21a-9e91ba3e0d0c"
      },
      "source": [
        "import statistics as st\n",
        "\n",
        "m=88\n",
        "n=27\n",
        "xm=smean\n",
        "sd=st.stdev(sample)\n",
        "ts = (xm-m)/(sd/math.sqrt(n))\n",
        "print (\"The T Score is: \",ts)"
      ],
      "id": "af96613e",
      "execution_count": 13,
      "outputs": [
        {
          "output_type": "stream",
          "name": "stdout",
          "text": [
            "The T Score is:  2.62315553169576\n"
          ]
        }
      ]
    },
    {
      "cell_type": "code",
      "metadata": {
        "colab": {
          "base_uri": "https://localhost:8080/"
        },
        "id": "65747c23",
        "outputId": "365e8ec8-0522-4fb5-f451-80787bb2a7b8"
      },
      "source": [
        "from scipy.stats import t \n",
        "\n",
        "tt= t(loc = 0 , scale =1 ,df=n-1).cdf(ts)\n",
        "tt\n"
      ],
      "id": "65747c23",
      "execution_count": 14,
      "outputs": [
        {
          "output_type": "execute_result",
          "data": {
            "text/plain": [
              "0.9928095010323311"
            ]
          },
          "metadata": {},
          "execution_count": 14
        }
      ]
    },
    {
      "cell_type": "code",
      "metadata": {
        "colab": {
          "base_uri": "https://localhost:8080/"
        },
        "id": "a32c139b",
        "outputId": "6b95dac7-40aa-4578-c3c6-e2a992b3ca9a"
      },
      "source": [
        "1-tt"
      ],
      "id": "a32c139b",
      "execution_count": 15,
      "outputs": [
        {
          "output_type": "execute_result",
          "data": {
            "text/plain": [
              "0.007190498967668879"
            ]
          },
          "metadata": {},
          "execution_count": 15
        }
      ]
    },
    {
      "cell_type": "code",
      "metadata": {
        "id": "1785f792"
      },
      "source": [
        "\n",
        "# function for calculating the t-test for two independent samples\n",
        "def independent_ttest(mean1, mean2, std1, std2, n1, n2, alpha):\n",
        "    from math import sqrt\n",
        "    from scipy.stats import t \n",
        "    \n",
        "    # calculate standard errors\n",
        "    se1, se2 = std1/sqrt(n1), std2/sqrt(n2)\n",
        "    # standard error on the difference between the samples\n",
        "    sed = sqrt(se1**2.0 + se2**2.0)\n",
        "    # calculate the t statistic\n",
        "    t_stat = (mean1 - mean2) / sed\n",
        "    # degrees of freedom\n",
        "    ss1=std1**2/n1\n",
        "    ss2=std2**2/n2\n",
        "    nn1= 1/(n1-1)\n",
        "    nn2=1/(n2-1)\n",
        "    df = ((ss1+ss2)**2)/((nn1*(ss1)**2)+(nn2*(ss2)**2))\n",
        "    # calculate the critical value\n",
        "    cv = t.ppf(1.0 - alpha, df)\n",
        "    # calculate the right p-value\n",
        "    rp = (1.0 - t.cdf(t_stat, df))\n",
        "    # calculate the left tailed p-value\n",
        "    lp = t.cdf(t_stat, df)\n",
        "    # calculate the two tailed p-value\n",
        "    tp = (1.0 - t.cdf(abs(t_stat), df)) * 2.0\n",
        "    # return everything\n",
        "    print( \"The T-Statistic is: \",t_stat)\n",
        "    print(\"The degrees of freedom: \", df)\n",
        "    print (\"The critical value: \",cv)\n",
        "    print(\"The  LEFT-RAILED P-Value: \",lp)\n",
        "    print(\"The  RIGHT-RAILED P-Value: \",rp)\n",
        "    print(\"The  TWO-RAILED P-Value: \",tp)"
      ],
      "id": "1785f792",
      "execution_count": 16,
      "outputs": []
    },
    {
      "cell_type": "code",
      "metadata": {
        "colab": {
          "base_uri": "https://localhost:8080/"
        },
        "id": "e69e0232",
        "outputId": "d0229709-05a2-4d0b-def9-aa860224e012"
      },
      "source": [
        "n1=119\n",
        "mean1=26\n",
        "std1=3.7\n",
        "n2=180\n",
        "mean2=23.6\n",
        "std2=4.6\n",
        "alpha=0.1\n",
        "\n",
        "independent_ttest(mean1, mean2, std1, std2, n1, n2, alpha)"
      ],
      "id": "e69e0232",
      "execution_count": 17,
      "outputs": [
        {
          "output_type": "stream",
          "name": "stdout",
          "text": [
            "The T-Statistic is:  4.976324047047918\n",
            "The degrees of freedom:  285.7062624195518\n",
            "The critical value:  1.284521700334777\n",
            "The  LEFT-RAILED P-Value:  0.999999439304979\n",
            "The  RIGHT-RAILED P-Value:  5.606950209680051e-07\n",
            "The  TWO-RAILED P-Value:  1.1213900419360101e-06\n"
          ]
        }
      ]
    },
    {
      "cell_type": "code",
      "metadata": {
        "id": "7cc93999"
      },
      "source": [
        ""
      ],
      "id": "7cc93999",
      "execution_count": 17,
      "outputs": []
    },
    {
      "cell_type": "code",
      "metadata": {
        "colab": {
          "base_uri": "https://localhost:8080/"
        },
        "id": "e0228082",
        "outputId": "f09965ac-849f-428b-9b69-e9b253252f03"
      },
      "source": [
        " import statistics as st\n",
        "\n",
        "smpl1 =[9, 3, 4, 3, 4, 4]\n",
        "smpl2=[9, 8, 7, 6, 5, 3, ]\n",
        "\n",
        "n1= len(smpl1)\n",
        "mean1=st.mean(smpl1)\n",
        "std1=st.stdev(smpl1)\n",
        "n2=len(smpl2)\n",
        "mean2=st.mean(smpl2)\n",
        "std2= st.stdev(smpl2)\n",
        "alpha=0.01\n",
        "\n",
        "independent_ttest(mean1, mean2, std1, std2, n1, n2, alpha)"
      ],
      "id": "e0228082",
      "execution_count": 18,
      "outputs": [
        {
          "output_type": "stream",
          "name": "stdout",
          "text": [
            "The T-Statistic is:  -1.436957346751201\n",
            "The degrees of freedom:  9.980352949382688\n",
            "The critical value:  2.7647735250179277\n",
            "The  LEFT-RAILED P-Value:  0.0906651399473341\n",
            "The  RIGHT-RAILED P-Value:  0.9093348600526658\n",
            "The  TWO-RAILED P-Value:  0.18133027989466832\n"
          ]
        }
      ]
    },
    {
      "cell_type": "code",
      "metadata": {
        "id": "ce83da7b"
      },
      "source": [
        "def generate_array (n1,mean1,std1):\n",
        "    import numpy as np\n",
        "\n",
        "    num_samples = 9\n",
        "    desired_mean = 2\n",
        "    desired_std_dev = 0.866\n",
        "\n",
        "    samples = np.random.normal(loc=desired_mean, scale=desired_std_dev, size=num_samples)\n",
        "    return samples"
      ],
      "id": "ce83da7b",
      "execution_count": 19,
      "outputs": []
    },
    {
      "cell_type": "code",
      "metadata": {
        "id": "1bbdf4b2"
      },
      "source": [
        "n1=9\n",
        "mean1=2\n",
        "std1=0.866\n",
        "n2=16\n",
        "mean2=3.2\n",
        "std2=1.00\n",
        "\n",
        "sample1=generate_array (n1,mean1,std1)\n",
        "sample2=generate_array (n2,mean2,std2)\n"
      ],
      "id": "1bbdf4b2",
      "execution_count": 20,
      "outputs": []
    },
    {
      "cell_type": "code",
      "metadata": {
        "id": "GZbVYS26wGTH"
      },
      "source": [
        "n1=2169\n",
        "x1=156\n",
        "y1=n1-x1\n",
        "n2=2231\n",
        "x2=183\n",
        "y2=n2-x2\n",
        "\n",
        "p1=x1/n1\n",
        "q1=1-p1\n",
        "\n",
        "p2=x2/n2\n",
        "q2=1-p2\n",
        "\n"
      ],
      "id": "GZbVYS26wGTH",
      "execution_count": 21,
      "outputs": []
    },
    {
      "cell_type": "code",
      "metadata": {
        "colab": {
          "base_uri": "https://localhost:8080/"
        },
        "id": "_Q42AkNrw_fX",
        "outputId": "87668b3a-fefe-4d4f-8232-47173dc8f951"
      },
      "source": [
        "ans1=n1*p1*q1\n",
        "ans2=n2*p2*q2\n",
        "print ('First proportion: ', ans1)\n",
        "print ('Second proportion: ', ans2)"
      ],
      "id": "_Q42AkNrw_fX",
      "execution_count": 22,
      "outputs": [
        {
          "output_type": "stream",
          "name": "stdout",
          "text": [
            "First proportion:  144.78008298755188\n",
            "Second proportion:  167.989242492156\n"
          ]
        }
      ]
    },
    {
      "cell_type": "code",
      "metadata": {
        "colab": {
          "base_uri": "https://localhost:8080/"
        },
        "id": "39f9888b",
        "outputId": "8992b547-f66f-49da-9dbc-f08873938f43"
      },
      "source": [
        "from statsmodels.stats.proportion import proportions_ztest\n",
        "import numpy as np\n",
        "# can we assume anything from our sample\n",
        "significance = 0.10000\n",
        "# our samples - 82% are good in one, and ~79% are good in the other\n",
        "# note - the samples do not need to be the same size\n",
        "sample_success_a, sample_size_a = (x1, n1)\n",
        "sample_success_b, sample_size_b = (x2, n2)\n",
        "# check our sample against Ho for Ha != Ho\n",
        "successes = np.array([sample_success_a, sample_success_b])\n",
        "samples = np.array([sample_size_a, sample_size_b])\n",
        "# note, no need for a Ho value here - it's derived from the other parameters\n",
        "# alternative hypothesis - ‘two-sided’, ‘smaller’, ‘larger’\n",
        "stat, p_value = proportions_ztest(count=successes, nobs=samples,  alternative='smaller') \n",
        "# report\n",
        "print('z_stat: %0.5f, p_value: %0.5f' % (stat, p_value))\n",
        "if p_value > significance:\n",
        "   print (\"Fail to reject the null hypothesis - we have nothing else to say\")\n",
        "else:\n",
        "   print (\"Reject the null hypothesis - suggest the alternative hypothesis is true\")"
      ],
      "id": "39f9888b",
      "execution_count": 23,
      "outputs": [
        {
          "output_type": "stream",
          "name": "stdout",
          "text": [
            "z_stat: -1.25649, p_value: 0.10447\n",
            "Fail to reject the null hypothesis - we have nothing else to say\n"
          ]
        },
        {
          "output_type": "stream",
          "name": "stderr",
          "text": [
            "/usr/local/lib/python3.7/dist-packages/statsmodels/tools/_testing.py:19: FutureWarning: pandas.util.testing is deprecated. Use the functions in the public API at pandas.testing instead.\n",
            "  import pandas.util.testing as tm\n"
          ]
        }
      ]
    },
    {
      "cell_type": "markdown",
      "metadata": {
        "id": "BGWEqNPv-pxi"
      },
      "source": [
        "Marched pairs ttest"
      ],
      "id": "BGWEqNPv-pxi"
    },
    {
      "cell_type": "code",
      "metadata": {
        "id": "I9SNsu6JCs9r"
      },
      "source": [
        ""
      ],
      "id": "I9SNsu6JCs9r",
      "execution_count": 23,
      "outputs": []
    },
    {
      "cell_type": "code",
      "metadata": {
        "id": "RtndXmLv4EcM"
      },
      "source": [
        "a=[234, 257, \t243, 215, 114, 287, 315, 229, 192, 204, 547]\t\n",
        "b=[237, 238, 229, 224, 110, 297, 351, 241, 186, 209, 562]\n",
        "\n"
      ],
      "id": "RtndXmLv4EcM",
      "execution_count": 25,
      "outputs": []
    },
    {
      "cell_type": "code",
      "metadata": {
        "id": "x_ZZIEmn-wrU",
        "colab": {
          "base_uri": "https://localhost:8080/"
        },
        "outputId": "c4fc1e61-dae3-41b5-c396-70f7207ba2b4"
      },
      "source": [
        "from scipy.stats import ttest_rel\n",
        "\n",
        "# Python paired sample t-test\n",
        "ttest_rel(a, b)"
      ],
      "id": "x_ZZIEmn-wrU",
      "execution_count": 27,
      "outputs": [
        {
          "output_type": "execute_result",
          "data": {
            "text/plain": [
              "Ttest_relResult(statistic=-0.9368202077818256, pvalue=0.370924025843991)"
            ]
          },
          "metadata": {},
          "execution_count": 27
        }
      ]
    },
    {
      "cell_type": "markdown",
      "metadata": {
        "id": "QvhCCpj37FKV"
      },
      "source": [
        ""
      ],
      "id": "QvhCCpj37FKV"
    }
  ]
}